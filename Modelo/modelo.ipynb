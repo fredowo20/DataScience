{
 "cells": [
  {
   "cell_type": "code",
   "execution_count": 1,
   "metadata": {},
   "outputs": [],
   "source": [
    "import pandas as pd\n",
    "from surprise import Reader, Dataset, SVD\n",
    "from surprise.model_selection import cross_validate\n",
    "from sklearn.preprocessing import MultiLabelBinarizer\n",
    "from sklearn.neighbors import NearestNeighbors\n",
    "import joblib\n",
    "\n",
    "pd.set_option('display.max_rows',500)\n",
    "pd.set_option('display.max_columns',504)\n",
    "pd.set_option('display.width',1000)"
   ]
  },
  {
   "cell_type": "code",
   "execution_count": 2,
   "metadata": {},
   "outputs": [],
   "source": [
    "df = pd.read_csv('../DatasetMergeFinalCortado(1M).csv')"
   ]
  },
  {
   "cell_type": "code",
   "execution_count": 3,
   "metadata": {},
   "outputs": [],
   "source": [
    "#print(df)"
   ]
  },
  {
   "cell_type": "code",
   "execution_count": 4,
   "metadata": {},
   "outputs": [],
   "source": [
    "# Guardar un DataFrame separado para mapear anime_id a title e image_url\n",
    "anime_titles = df[['anime_id', 'title', 'image_url']].drop_duplicates()"
   ]
  },
  {
   "cell_type": "code",
   "execution_count": 5,
   "metadata": {},
   "outputs": [],
   "source": [
    "# Parte 1: Filtrado colaborativo usando SVD\n",
    "reader = Reader(rating_scale=(1, 10))\n",
    "data = Dataset.load_from_df(df[['username', 'anime_id', 'my_score']], reader)\n",
    "svd = SVD()"
   ]
  },
  {
   "cell_type": "code",
   "execution_count": 6,
   "metadata": {},
   "outputs": [
    {
     "data": {
      "text/plain": [
       "<surprise.prediction_algorithms.matrix_factorization.SVD at 0x1c1fc30ec10>"
      ]
     },
     "execution_count": 6,
     "metadata": {},
     "output_type": "execute_result"
    }
   ],
   "source": [
    "# Entrenar modelo\n",
    "trainset = data.build_full_trainset()\n",
    "svd.fit(trainset)"
   ]
  },
  {
   "cell_type": "code",
   "execution_count": 7,
   "metadata": {},
   "outputs": [],
   "source": [
    "# Agrupar por anime_id, genre y title, y calcular la calificación media\n",
    "df_grouped = df.groupby(['anime_id', 'genre'], as_index=False)['my_score'].mean()"
   ]
  },
  {
   "cell_type": "code",
   "execution_count": 8,
   "metadata": {},
   "outputs": [],
   "source": [
    "# Parte 2: Filtrado basado en contenido utilizando Binarización\n",
    "df_grouped = df_grouped.dropna().reset_index(drop=True)\n",
    "df_grouped['genre'] = df_grouped['genre'].apply(lambda x: x.split(','))  # Asumiendo que los géneros están separados por comas\n",
    "\n",
    "mlb = MultiLabelBinarizer()\n",
    "genre_matrix = mlb.fit_transform(df_grouped['genre'])"
   ]
  },
  {
   "cell_type": "code",
   "execution_count": 9,
   "metadata": {},
   "outputs": [
    {
     "data": {
      "text/html": [
       "<style>#sk-container-id-1 {color: black;background-color: white;}#sk-container-id-1 pre{padding: 0;}#sk-container-id-1 div.sk-toggleable {background-color: white;}#sk-container-id-1 label.sk-toggleable__label {cursor: pointer;display: block;width: 100%;margin-bottom: 0;padding: 0.3em;box-sizing: border-box;text-align: center;}#sk-container-id-1 label.sk-toggleable__label-arrow:before {content: \"▸\";float: left;margin-right: 0.25em;color: #696969;}#sk-container-id-1 label.sk-toggleable__label-arrow:hover:before {color: black;}#sk-container-id-1 div.sk-estimator:hover label.sk-toggleable__label-arrow:before {color: black;}#sk-container-id-1 div.sk-toggleable__content {max-height: 0;max-width: 0;overflow: hidden;text-align: left;background-color: #f0f8ff;}#sk-container-id-1 div.sk-toggleable__content pre {margin: 0.2em;color: black;border-radius: 0.25em;background-color: #f0f8ff;}#sk-container-id-1 input.sk-toggleable__control:checked~div.sk-toggleable__content {max-height: 200px;max-width: 100%;overflow: auto;}#sk-container-id-1 input.sk-toggleable__control:checked~label.sk-toggleable__label-arrow:before {content: \"▾\";}#sk-container-id-1 div.sk-estimator input.sk-toggleable__control:checked~label.sk-toggleable__label {background-color: #d4ebff;}#sk-container-id-1 div.sk-label input.sk-toggleable__control:checked~label.sk-toggleable__label {background-color: #d4ebff;}#sk-container-id-1 input.sk-hidden--visually {border: 0;clip: rect(1px 1px 1px 1px);clip: rect(1px, 1px, 1px, 1px);height: 1px;margin: -1px;overflow: hidden;padding: 0;position: absolute;width: 1px;}#sk-container-id-1 div.sk-estimator {font-family: monospace;background-color: #f0f8ff;border: 1px dotted black;border-radius: 0.25em;box-sizing: border-box;margin-bottom: 0.5em;}#sk-container-id-1 div.sk-estimator:hover {background-color: #d4ebff;}#sk-container-id-1 div.sk-parallel-item::after {content: \"\";width: 100%;border-bottom: 1px solid gray;flex-grow: 1;}#sk-container-id-1 div.sk-label:hover label.sk-toggleable__label {background-color: #d4ebff;}#sk-container-id-1 div.sk-serial::before {content: \"\";position: absolute;border-left: 1px solid gray;box-sizing: border-box;top: 0;bottom: 0;left: 50%;z-index: 0;}#sk-container-id-1 div.sk-serial {display: flex;flex-direction: column;align-items: center;background-color: white;padding-right: 0.2em;padding-left: 0.2em;position: relative;}#sk-container-id-1 div.sk-item {position: relative;z-index: 1;}#sk-container-id-1 div.sk-parallel {display: flex;align-items: stretch;justify-content: center;background-color: white;position: relative;}#sk-container-id-1 div.sk-item::before, #sk-container-id-1 div.sk-parallel-item::before {content: \"\";position: absolute;border-left: 1px solid gray;box-sizing: border-box;top: 0;bottom: 0;left: 50%;z-index: -1;}#sk-container-id-1 div.sk-parallel-item {display: flex;flex-direction: column;z-index: 1;position: relative;background-color: white;}#sk-container-id-1 div.sk-parallel-item:first-child::after {align-self: flex-end;width: 50%;}#sk-container-id-1 div.sk-parallel-item:last-child::after {align-self: flex-start;width: 50%;}#sk-container-id-1 div.sk-parallel-item:only-child::after {width: 0;}#sk-container-id-1 div.sk-dashed-wrapped {border: 1px dashed gray;margin: 0 0.4em 0.5em 0.4em;box-sizing: border-box;padding-bottom: 0.4em;background-color: white;}#sk-container-id-1 div.sk-label label {font-family: monospace;font-weight: bold;display: inline-block;line-height: 1.2em;}#sk-container-id-1 div.sk-label-container {text-align: center;}#sk-container-id-1 div.sk-container {/* jupyter's `normalize.less` sets `[hidden] { display: none; }` but bootstrap.min.css set `[hidden] { display: none !important; }` so we also need the `!important` here to be able to override the default hidden behavior on the sphinx rendered scikit-learn.org. See: https://github.com/scikit-learn/scikit-learn/issues/21755 */display: inline-block !important;position: relative;}#sk-container-id-1 div.sk-text-repr-fallback {display: none;}</style><div id=\"sk-container-id-1\" class=\"sk-top-container\"><div class=\"sk-text-repr-fallback\"><pre>NearestNeighbors(metric=&#x27;jaccard&#x27;)</pre><b>In a Jupyter environment, please rerun this cell to show the HTML representation or trust the notebook. <br />On GitHub, the HTML representation is unable to render, please try loading this page with nbviewer.org.</b></div><div class=\"sk-container\" hidden><div class=\"sk-item\"><div class=\"sk-estimator sk-toggleable\"><input class=\"sk-toggleable__control sk-hidden--visually\" id=\"sk-estimator-id-1\" type=\"checkbox\" checked><label for=\"sk-estimator-id-1\" class=\"sk-toggleable__label sk-toggleable__label-arrow\">NearestNeighbors</label><div class=\"sk-toggleable__content\"><pre>NearestNeighbors(metric=&#x27;jaccard&#x27;)</pre></div></div></div></div></div>"
      ],
      "text/plain": [
       "NearestNeighbors(metric='jaccard')"
      ]
     },
     "execution_count": 9,
     "metadata": {},
     "output_type": "execute_result"
    }
   ],
   "source": [
    "# Utilizar vecinos más cercanos para encontrar animes similares\n",
    "nn = NearestNeighbors(metric='jaccard')\n",
    "nn.fit(genre_matrix)"
   ]
  },
  {
   "cell_type": "code",
   "execution_count": 10,
   "metadata": {},
   "outputs": [],
   "source": [
    "# Función para obtener recomendaciones\n",
    "def get_recommendations(anime_id):\n",
    "    # Convierte anime_id en un índice\n",
    "    idx = df_grouped[df_grouped['anime_id'] == anime_id].index[0]\n",
    "\n",
    "    distances, nearest_indices = nn.kneighbors(genre_matrix[idx].reshape(1, -1), n_neighbors=20)\n",
    "    # Recomendaciones con anime_id\n",
    "    recommendations = df_grouped.iloc[nearest_indices[0]][['anime_id']]\n",
    "\n",
    "    # Calcula la puntuación predicha por SVD para cada anime recomendado\n",
    "    recommendations['svd_score'] = recommendations['anime_id'].apply(lambda x: svd.predict('username_example', x).est)\n",
    "\n",
    "    # Pondera la puntuación SVD por la inversa de la distancia de género\n",
    "    recommendations['hybrid_score'] = recommendations['svd_score'] / (1 + distances[0])\n",
    "\n",
    "    # Ordena por la puntuación híbrida\n",
    "    recommendations = recommendations.sort_values(by='hybrid_score', ascending=False)\n",
    "\n",
    "    # Agregar el título e imágenes a las recomendaciones utilizando el DataFrame de mapeo\n",
    "    recommendations = recommendations.merge(anime_titles, on='anime_id', how='left')\n",
    "\n",
    "    return recommendations"
   ]
  },
  {
   "cell_type": "code",
   "execution_count": 11,
   "metadata": {},
   "outputs": [
    {
     "name": "stdout",
     "output_type": "stream",
     "text": [
      "    anime_id  svd_score  hybrid_score                                              title                                          image_url\n",
      "0      25777         10     10.000000                        Shingeki no Kyojin Season 2  https://cdn.myanimelist.net/images/anime/4/841...\n",
      "1      16498         10     10.000000                                 Shingeki no Kyojin  https://cdn.myanimelist.net/images/anime/10/47...\n",
      "2      23775         10      7.777778        Shingeki no Kyojin Movie 1: Guren no Yumiya  https://cdn.myanimelist.net/images/anime/7/632...\n",
      "3      23777         10      7.777778       Shingeki no Kyojin Movie 2: Jiyuu no Tsubasa  https://cdn.myanimelist.net/images/anime/2/725...\n",
      "4      36702         10      7.777778      Shingeki no Kyojin Movie 3: Kakusei no Houkou  https://cdn.myanimelist.net/images/anime/2/887...\n",
      "5      18397         10      7.777778                             Shingeki no Kyojin OVA  https://cdn.myanimelist.net/images/anime/9/592...\n",
      "6      19285         10      7.777778                    Shingeki no Kyojin: Ano Hi Kara  https://cdn.myanimelist.net/images/anime/3/517...\n",
      "7      33947         10      7.000000                        Dragon Ball Z: The Real 4-D  https://cdn.myanimelist.net/images/anime/8/816...\n",
      "8       3515         10      7.000000               Saint Seiya: Meiou Hades Elysion-hen  https://cdn.myanimelist.net/images/anime/9/556...\n",
      "9       1145         10      7.000000                                  Kaze no Youjinbou  https://cdn.myanimelist.net/images/anime/2/675...\n",
      "10     35267         10      7.000000         Shingeki no Kyojin-ten 360° Taikan Theater  https://cdn.myanimelist.net/images/anime/13/88...\n",
      "11     15323         10      6.923077  One Piece: Episode of Nami - Koukaishi no Nami...  https://cdn.myanimelist.net/images/anime/5/414...\n",
      "12       132         10      6.923077                                         GetBackers  https://cdn.myanimelist.net/images/anime/4/754...\n",
      "13     14075         10      6.923077                                 Zetsuen no Tempest  https://cdn.myanimelist.net/images/anime/7/424...\n",
      "14     36215         10      6.923077  One Piece: Episode of East Blue - Luffy to 4-n...  https://cdn.myanimelist.net/images/anime/10/87...\n",
      "15     19123         10      6.923077  One Piece: Episode of Merry - Mou Hitori no Na...  https://cdn.myanimelist.net/images/anime/9/610...\n",
      "16     31289         10      6.923077  One Piece: Episode of Sabo - 3 Kyoudai no Kizu...  https://cdn.myanimelist.net/images/anime/2/758...\n",
      "17        21         10      6.923077                                          One Piece  https://cdn.myanimelist.net/images/anime/6/732...\n",
      "18     32437         10      6.923077                 One Piece: Long Ring Long Land-hen  https://cdn.myanimelist.net/images/anime/12/83...\n",
      "19      9465         10      6.666667                        Break Blade 4: Sanka no Chi  https://cdn.myanimelist.net/images/anime/11/68...\n"
     ]
    },
    {
     "name": "stderr",
     "output_type": "stream",
     "text": [
      "C:\\Users\\Freddy\\AppData\\Local\\Packages\\PythonSoftwareFoundation.Python.3.9_qbz5n2kfra8p0\\LocalCache\\local-packages\\Python39\\site-packages\\sklearn\\metrics\\pairwise.py:2025: DataConversionWarning: Data was converted to boolean for metric jaccard\n",
      "  warnings.warn(msg, DataConversionWarning)\n"
     ]
    }
   ],
   "source": [
    "# Slam Dunk = 170\n",
    "# Neon Genesis Evangelion = 30\n",
    "# Shingeki no Kyojin = 16498\n",
    "# Pokemon = 1565\n",
    "# One Piece = 21\n",
    "# Tokyo Ghoul = 22319\n",
    "# Shigatsu wa Kimi no Uso = 23273\n",
    "\n",
    "anime_id = 16498\n",
    "print(get_recommendations(anime_id))"
   ]
  },
  {
   "cell_type": "code",
   "execution_count": 13,
   "metadata": {},
   "outputs": [],
   "source": [
    "joblib.dump(svd, 'svd_model.pkl')\n",
    "joblib.dump(nn, 'nn_model.pkl')\n",
    "df_grouped.to_csv('df_grouped.csv', index=False)\n",
    "anime_titles.to_csv('anime_titles.csv', index=False)"
   ]
  }
 ],
 "metadata": {
  "kernelspec": {
   "display_name": "Python 3",
   "language": "python",
   "name": "python3"
  },
  "language_info": {
   "codemirror_mode": {
    "name": "ipython",
    "version": 3
   },
   "file_extension": ".py",
   "mimetype": "text/x-python",
   "name": "python",
   "nbconvert_exporter": "python",
   "pygments_lexer": "ipython3",
   "version": "3.9.13"
  },
  "orig_nbformat": 4
 },
 "nbformat": 4,
 "nbformat_minor": 2
}
